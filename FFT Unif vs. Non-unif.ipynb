{
 "cells": [
  {
   "cell_type": "code",
   "execution_count": 1,
   "metadata": {
    "collapsed": true
   },
   "outputs": [],
   "source": [
    "from __future__ import division, print_function\n",
    "\n",
    "import numpy as np"
   ]
  },
  {
   "cell_type": "code",
   "execution_count": 2,
   "metadata": {
    "collapsed": false
   },
   "outputs": [],
   "source": [
    "%matplotlib inline\n",
    "from matplotlib import pyplot as plt"
   ]
  },
  {
   "cell_type": "code",
   "execution_count": 3,
   "metadata": {
    "collapsed": false
   },
   "outputs": [],
   "source": [
    "po2s = np.array([1, 2, 4, 8, 10, 10, 10, 12, 13, 14, 14, 14, 14, 15, 16, 16, 16, 17, 18, 18, 18, 20])\n",
    "szs = 2**po2s"
   ]
  },
  {
   "cell_type": "code",
   "execution_count": 4,
   "metadata": {
    "collapsed": false
   },
   "outputs": [
    {
     "name": "stdout",
     "output_type": "stream",
     "text": [
      "Power of 2: 1 total size: 2\n",
      "The slowest run took 22.33 times longer than the fastest. This could mean that an intermediate result is being cached \n",
      "100000 loops, best of 3: 3.9 µs per loop\n",
      "Power of 2: 2 total size: 4\n",
      "The slowest run took 7.94 times longer than the fastest. This could mean that an intermediate result is being cached \n",
      "100000 loops, best of 3: 3.9 µs per loop\n",
      "Power of 2: 4 total size: 16\n",
      "The slowest run took 7.56 times longer than the fastest. This could mean that an intermediate result is being cached \n",
      "100000 loops, best of 3: 3.97 µs per loop\n",
      "Power of 2: 8 total size: 256\n",
      "The slowest run took 5.08 times longer than the fastest. This could mean that an intermediate result is being cached \n",
      "100000 loops, best of 3: 6.71 µs per loop\n",
      "Power of 2: 10 total size: 1024\n",
      "100000 loops, best of 3: 18.1 µs per loop\n",
      "Power of 2: 10 total size: 1024\n",
      "100000 loops, best of 3: 18.1 µs per loop\n",
      "Power of 2: 10 total size: 1024\n",
      "100000 loops, best of 3: 18.3 µs per loop\n",
      "Power of 2: 12 total size: 4096\n",
      "10000 loops, best of 3: 71.2 µs per loop\n",
      "Power of 2: 13 total size: 8192\n",
      "10000 loops, best of 3: 174 µs per loop\n",
      "Power of 2: 14 total size: 16384\n",
      "1000 loops, best of 3: 439 µs per loop\n",
      "Power of 2: 14 total size: 16384\n",
      "1000 loops, best of 3: 442 µs per loop\n",
      "Power of 2: 14 total size: 16384\n",
      "1000 loops, best of 3: 448 µs per loop\n",
      "Power of 2: 14 total size: 16384\n",
      "1000 loops, best of 3: 443 µs per loop\n",
      "Power of 2: 15 total size: 32768\n",
      "1000 loops, best of 3: 887 µs per loop\n",
      "Power of 2: 16 total size: 65536\n",
      "100 loops, best of 3: 2.09 ms per loop\n",
      "Power of 2: 16 total size: 65536\n",
      "100 loops, best of 3: 2.1 ms per loop\n",
      "Power of 2: 16 total size: 65536\n",
      "100 loops, best of 3: 2.11 ms per loop\n",
      "Power of 2: 17 total size: 131072\n",
      "100 loops, best of 3: 4.38 ms per loop\n",
      "Power of 2: 18 total size: 262144\n",
      "100 loops, best of 3: 10.9 ms per loop\n",
      "Power of 2: 18 total size: 262144\n",
      "100 loops, best of 3: 10.8 ms per loop\n",
      "Power of 2: 18 total size: 262144\n",
      "100 loops, best of 3: 10.9 ms per loop\n",
      "Power of 2: 20 total size: 1048576\n",
      "10 loops, best of 3: 49.3 ms per loop\n"
     ]
    }
   ],
   "source": [
    "times = []\n",
    "for po2, sz in zip(po2s, szs):\n",
    "    print('Power of 2:', po2, 'total size:', sz)\n",
    "    arr = np.random.randn(sz)\n",
    "    res = %timeit -o np.fft.fft(arr)\n",
    "    times.append(res.best)"
   ]
  },
  {
   "cell_type": "code",
   "execution_count": 5,
   "metadata": {
    "collapsed": false
   },
   "outputs": [
    {
     "name": "stdout",
     "output_type": "stream",
     "text": [
      "Power of 2: 1 total size: 2\n",
      "The slowest run took 7.05 times longer than the fastest. This could mean that an intermediate result is being cached \n",
      "100000 loops, best of 3: 3.96 µs per loop\n",
      "Power of 2: 2 total size: 4\n",
      "The slowest run took 6.70 times longer than the fastest. This could mean that an intermediate result is being cached \n",
      "100000 loops, best of 3: 3.88 µs per loop\n",
      "Power of 2: 4 total size: 16\n",
      "The slowest run took 6.50 times longer than the fastest. This could mean that an intermediate result is being cached \n",
      "100000 loops, best of 3: 4.47 µs per loop\n",
      "Power of 2: 8 total size: 256\n",
      "10000 loops, best of 3: 91 µs per loop\n",
      "Power of 2: 10 total size: 1024\n",
      "10000 loops, best of 3: 50.7 µs per loop\n",
      "Power of 2: 10 total size: 1024\n",
      "10000 loops, best of 3: 51.9 µs per loop\n",
      "Power of 2: 10 total size: 1024\n",
      "10000 loops, best of 3: 51.8 µs per loop\n",
      "Power of 2: 12 total size: 4096\n",
      "1000 loops, best of 3: 946 µs per loop\n",
      "Power of 2: 13 total size: 8192\n",
      "10 loops, best of 3: 22.1 ms per loop\n",
      "Power of 2: 14 total size: 16384\n",
      "100 loops, best of 3: 1.99 ms per loop\n",
      "Power of 2: 14 total size: 16384\n",
      "100 loops, best of 3: 2.05 ms per loop\n",
      "Power of 2: 14 total size: 16384\n",
      "1000 loops, best of 3: 2.08 ms per loop\n",
      "Power of 2: 14 total size: 16384\n",
      "100 loops, best of 3: 2.01 ms per loop\n",
      "Power of 2: 15 total size: 32768\n",
      "100 loops, best of 3: 9.46 ms per loop\n",
      "Power of 2: 16 total size: 65536\n",
      "1 loops, best of 3: 7.73 s per loop\n",
      "Power of 2: 16 total size: 65536\n",
      "1 loops, best of 3: 7.71 s per loop\n",
      "Power of 2: 16 total size: 65536\n",
      "1 loops, best of 3: 7.71 s per loop\n",
      "Power of 2: 17 total size: 131072\n",
      "1 loops, best of 3: 7.46 s per loop\n",
      "Power of 2: 18 total size: 262144\n",
      "10 loops, best of 3: 39.6 ms per loop\n",
      "Power of 2: 18 total size: 262144\n",
      "10 loops, best of 3: 38.6 ms per loop\n",
      "Power of 2: 18 total size: 262144\n",
      "10 loops, best of 3: 39.2 ms per loop\n",
      "Power of 2: 20 total size: 1048576\n",
      "1 loops, best of 3: 1min 22s per loop\n"
     ]
    }
   ],
   "source": [
    "timesnu = []\n",
    "for po2, sz in zip(po2s, szs):\n",
    "    print('Power of 2:', po2, 'total size:', sz)\n",
    "    arr = np.random.randn(sz + 1)\n",
    "    res = %timeit -o np.fft.fft(arr)\n",
    "    timesnu.append(res.best)"
   ]
  },
  {
   "cell_type": "code",
   "execution_count": 6,
   "metadata": {
    "collapsed": false
   },
   "outputs": [
    {
     "data": {
      "text/plain": [
       "<matplotlib.legend.Legend at 0x114182190>"
      ]
     },
     "execution_count": 6,
     "metadata": {},
     "output_type": "execute_result"
    },
    {
     "data": {
      "image/png": "[encoded data removed]",
      "text/plain": [
       "<matplotlib.figure.Figure at 0x1090cc1d0>"
      ]
     },
     "metadata": {},
     "output_type": "display_data"
    }
   ],
   "source": [
    "plt.clf()\n",
    "plt.semilogy(po2s, times, 'o-b',label='Power-of-2')\n",
    "plt.semilogy(po2s, timesnu, 'o-r',label='Non-Power-of-2')\n",
    "plt.semilogy(po2s, szs * np.log(szs) * 1e-7, 'o--k',label=r'$N \\log{N}$')\n",
    "plt.semilogy(po2s, szs **2 * 1e-7, 'o:k',label='$N^2$')\n",
    "plt.legend(loc=0)"
   ]
  },
  {
   "cell_type": "code",
   "execution_count": 7,
   "metadata": {
    "collapsed": false
   },
   "outputs": [
    {
     "name": "stdout",
     "output_type": "stream",
     "text": [
      "55708 ttys009    0:00.01 /bin/sh -c ps -A | grep \"caffeinate -s\"\n",
      "55710 ttys009    0:00.00 grep caffeinate -s\n",
      "55197 ttys011    0:00.01 caffeinate -s\n",
      "killing pid 55197\n"
     ]
    }
   ],
   "source": [
    "#now kill any caffeinate calls to make sure we can sleep\n",
    "psres = !ps -A | grep \"caffeinate -s\"\n",
    "print('\\n'.join(psres))\n",
    "\n",
    "for row in psres:\n",
    "    if row.split()[3:5] == ['caffeinate', '-s']:\n",
    "        pid = row.split()[0]\n",
    "        print('killing pid', pid)\n",
    "        !kill $pid"
   ]
  }
 ],
 "metadata": {
  "kernelspec": {
   "display_name": "Python 2",
   "language": "python",
   "name": "python2"
  },
  "language_info": {
   "codemirror_mode": {
    "name": "ipython",
    "version": 2
   },
   "file_extension": ".py",
   "mimetype": "text/x-python",
   "name": "python",
   "nbconvert_exporter": "python",
   "pygments_lexer": "ipython2",
   "version": "2.7.10"
  }
 },
 "nbformat": 4,
 "nbformat_minor": 0
}
